{
 "cells": [
  {
   "cell_type": "code",
   "execution_count": 1,
   "metadata": {},
   "outputs": [
    {
     "data": {
      "text/plain": [
       "['/home/danish/anaconda3/envs/metis/lib/python3.7/site-packages/requests']"
      ]
     },
     "execution_count": 1,
     "metadata": {},
     "output_type": "execute_result"
    }
   ],
   "source": [
    "from __future__ import print_function, division\n",
    "from bs4 import BeautifulSoup\n",
    "import time, sys\n",
    "from IPython.display import clear_output\n",
    "import requests\n",
    "import pandas as pd\n",
    "import numpy as np\n",
    "import pickle\n",
    "\n",
    "requests.__path__"
   ]
  },
  {
   "cell_type": "code",
   "execution_count": 2,
   "metadata": {},
   "outputs": [],
   "source": [
    "url_base = \"https://www.billboard.com/charts/hot-100/\"\n",
    "timelist = pd.date_range(end='2019-11-02', periods=3196, freq='W-SAT').to_list()\n",
    "urls = []\n",
    "\n",
    "for i in range(0,len(timelist)):\n",
    "    urls.append(url_base + str(timelist[i]).split()[0])"
   ]
  },
  {
   "cell_type": "code",
   "execution_count": 3,
   "metadata": {},
   "outputs": [
    {
     "data": {
      "text/plain": [
       "'https://www.billboard.com/charts/hot-100/1958-08-09'"
      ]
     },
     "execution_count": 3,
     "metadata": {},
     "output_type": "execute_result"
    }
   ],
   "source": [
    "urls[0]"
   ]
  },
  {
   "cell_type": "code",
   "execution_count": 6,
   "metadata": {
    "scrolled": true
   },
   "outputs": [
    {
     "name": "stdout",
     "output_type": "stream",
     "text": [
      "Page number 1, response code is: 200\n",
      "Page number 2, response code is: 200\n",
      "Page number 3, response code is: 200\n",
      "Page number 4, response code is: 200\n"
     ]
    }
   ],
   "source": [
    "soup = []\n",
    "\n",
    "for i in range(0,len(timelist)):\n",
    "    response = requests.get(urls[i])\n",
    "\n",
    "    print(\"Page number {}, response code is: \".format(i+1) + str(response.status_code))\n",
    "\n",
    "    page = response.text\n",
    "\n",
    "    soup.append(BeautifulSoup(page, \"lxml\"))\n",
    "    \n",
    "    time.sleep(3)"
   ]
  },
  {
   "cell_type": "code",
   "execution_count": 4,
   "metadata": {
    "scrolled": true
   },
   "outputs": [],
   "source": [
    "titles = []\n",
    "artists = []\n",
    "ranks = []\n",
    "weeks = []"
   ]
  },
  {
   "cell_type": "code",
   "execution_count": 5,
   "metadata": {},
   "outputs": [],
   "source": [
    "# Need to include the week\n",
    "def get_top100(page, week):\n",
    "    rank_html = page.find_all(class_='chart-element__rank__number')\n",
    "    titles_html = page.find_all(class_='chart-element__information__song text--truncate color--primary')\n",
    "    artists_html = page.find_all(class_='chart-element__information__artist text--truncate color--secondary')\n",
    "    for index in range(100):\n",
    "        ranks.append(int(rank_html[index].getText()))\n",
    "        titles.append(titles_html[index].getText())\n",
    "        artists.append(artists_html[index].getText())\n",
    "        weeks.append(week)"
   ]
  },
  {
   "cell_type": "code",
   "execution_count": 9,
   "metadata": {},
   "outputs": [
    {
     "name": "stdout",
     "output_type": "stream",
     "text": [
      "1 done, 11 left\n",
      "2 done, 10 left\n",
      "3 done, 9 left\n",
      "4 done, 8 left\n",
      "5 done, 7 left\n",
      "6 done, 6 left\n",
      "7 done, 5 left\n",
      "8 done, 4 left\n",
      "9 done, 3 left\n",
      "10 done, 2 left\n"
     ]
    }
   ],
   "source": [
    "for i in range(0, len(soup)):\n",
    "    get_top100(soup[i], timelist[i])\n",
    "    print('{} done, {} left'.format(i+1, len(soup)-i-1))"
   ]
  },
  {
   "cell_type": "code",
   "execution_count": 19,
   "metadata": {},
   "outputs": [],
   "source": [
    "df = pd.DataFrame(data={'Rank': ranks, 'Title': titles, 'Artist': artists, 'Chart Week': weeks}, index=None)"
   ]
  },
  {
   "cell_type": "code",
   "execution_count": 22,
   "metadata": {},
   "outputs": [],
   "source": [
    "df.to_pickle('Data.pickle')"
   ]
  }
 ],
 "metadata": {
  "kernelspec": {
   "display_name": "Python [conda env:metis] *",
   "language": "python",
   "name": "conda-env-metis-py"
  },
  "language_info": {
   "codemirror_mode": {
    "name": "ipython",
    "version": 3
   },
   "file_extension": ".py",
   "mimetype": "text/x-python",
   "name": "python",
   "nbconvert_exporter": "python",
   "pygments_lexer": "ipython3",
   "version": "3.7.3"
  }
 },
 "nbformat": 4,
 "nbformat_minor": 2
}
