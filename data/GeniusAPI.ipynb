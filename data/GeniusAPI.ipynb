{
 "cells": [
  {
   "cell_type": "code",
   "execution_count": 11,
   "metadata": {},
   "outputs": [],
   "source": [
    "import lyricsgenius as genius\n",
    "import pandas as pd\n",
    "import pickle\n",
    "import re"
   ]
  },
  {
   "cell_type": "code",
   "execution_count": 2,
   "metadata": {},
   "outputs": [],
   "source": [
    "client_token = 'OJ-dz5ttT0F6FkqRIJq4eERoI8rs4ebh6I5tCgfwGQ5vGDwGhNq27QC_HqXZBeVw'"
   ]
  },
  {
   "cell_type": "code",
   "execution_count": 3,
   "metadata": {},
   "outputs": [],
   "source": [
    "api = genius.Genius(client_token)"
   ]
  },
  {
   "cell_type": "code",
   "execution_count": 4,
   "metadata": {},
   "outputs": [],
   "source": [
    "df = pd.read_pickle('Sample.pickle')"
   ]
  },
  {
   "cell_type": "code",
   "execution_count": 5,
   "metadata": {},
   "outputs": [
    {
     "data": {
      "text/html": [
       "<div>\n",
       "<style scoped>\n",
       "    .dataframe tbody tr th:only-of-type {\n",
       "        vertical-align: middle;\n",
       "    }\n",
       "\n",
       "    .dataframe tbody tr th {\n",
       "        vertical-align: top;\n",
       "    }\n",
       "\n",
       "    .dataframe thead th {\n",
       "        text-align: right;\n",
       "    }\n",
       "</style>\n",
       "<table border=\"1\" class=\"dataframe\">\n",
       "  <thead>\n",
       "    <tr style=\"text-align: right;\">\n",
       "      <th></th>\n",
       "      <th>Rank</th>\n",
       "      <th>Title</th>\n",
       "      <th>Artist</th>\n",
       "    </tr>\n",
       "  </thead>\n",
       "  <tbody>\n",
       "    <tr>\n",
       "      <th>0</th>\n",
       "      <td>1</td>\n",
       "      <td>Senorita</td>\n",
       "      <td>Shawn Mendes &amp; Camila Cabello</td>\n",
       "    </tr>\n",
       "    <tr>\n",
       "      <th>1</th>\n",
       "      <td>2</td>\n",
       "      <td>Bad Guy</td>\n",
       "      <td>Billie Eilish</td>\n",
       "    </tr>\n",
       "    <tr>\n",
       "      <th>2</th>\n",
       "      <td>3</td>\n",
       "      <td>Truth Hurts</td>\n",
       "      <td>Lizzo</td>\n",
       "    </tr>\n",
       "    <tr>\n",
       "      <th>3</th>\n",
       "      <td>4</td>\n",
       "      <td>Old Town Road</td>\n",
       "      <td>Lil Nas X Featuring Billy Ray Cyrus</td>\n",
       "    </tr>\n",
       "    <tr>\n",
       "      <th>4</th>\n",
       "      <td>5</td>\n",
       "      <td>Ran$om</td>\n",
       "      <td>Lil Tecca</td>\n",
       "    </tr>\n",
       "  </tbody>\n",
       "</table>\n",
       "</div>"
      ],
      "text/plain": [
       "   Rank          Title                               Artist\n",
       "0     1       Senorita        Shawn Mendes & Camila Cabello\n",
       "1     2        Bad Guy                        Billie Eilish\n",
       "2     3    Truth Hurts                                Lizzo\n",
       "3     4  Old Town Road  Lil Nas X Featuring Billy Ray Cyrus\n",
       "4     5         Ran$om                            Lil Tecca"
      ]
     },
     "execution_count": 5,
     "metadata": {},
     "output_type": "execute_result"
    }
   ],
   "source": [
    "df.head()"
   ]
  },
  {
   "cell_type": "code",
   "execution_count": 7,
   "metadata": {},
   "outputs": [],
   "source": []
  },
  {
   "cell_type": "code",
   "execution_count": 8,
   "metadata": {},
   "outputs": [
    {
     "name": "stdout",
     "output_type": "stream",
     "text": [
      "Searching for \"Senorita\" by Shawn Mendes & Camila Cabello...\n",
      "Done.\n"
     ]
    }
   ],
   "source": [
    "song = api.search_song(choice_song, choice_artist)"
   ]
  },
  {
   "cell_type": "code",
   "execution_count": 12,
   "metadata": {},
   "outputs": [],
   "source": [
    "s = choice_song + '_' + choice_artist\n",
    "filename = re.sub(r'\\W+', '', s)"
   ]
  },
  {
   "cell_type": "code",
   "execution_count": 13,
   "metadata": {},
   "outputs": [
    {
     "data": {
      "text/plain": [
       "'Senorita_ShawnMendesCamilaCabello'"
      ]
     },
     "execution_count": 13,
     "metadata": {},
     "output_type": "execute_result"
    }
   ],
   "source": [
    "filename"
   ]
  },
  {
   "cell_type": "code",
   "execution_count": 20,
   "metadata": {},
   "outputs": [
    {
     "name": "stdout",
     "output_type": "stream",
     "text": [
      "Searching for \"Senorita\" by Shawn Mendes & Camila Cabello...\n",
      "Done.\n",
      "./lyrics/Senorita_ShawnMendesCamilaCabello.txt already exists. Overwrite?\n",
      "(y/n): y\n",
      "Wrote Señorita to ./lyrics/Senorita_ShawnMendesCamilaCabello.txt.\n",
      "Searching for \"Bad Guy\" by Billie Eilish...\n",
      "Done.\n",
      "./lyrics/BadGuy_BillieEilish.txt already exists. Overwrite?\n",
      "(y/n): y\n",
      "Wrote ​bad guy to ./lyrics/BadGuy_BillieEilish.txt.\n",
      "Searching for \"Truth Hurts\" by Lizzo...\n",
      "Done.\n",
      "./lyrics/TruthHurts_Lizzo.txt already exists. Overwrite?\n",
      "(y/n): y\n",
      "Wrote Truth Hurts to ./lyrics/TruthHurts_Lizzo.txt.\n",
      "Searching for \"Old Town Road\" by Lil Nas X Featuring Billy Ray Cyrus...\n",
      "Done.\n",
      "./lyrics/OldTownRoad_LilNasXFeaturingBillyRayCyrus.txt already exists. Overwrite?\n",
      "(y/n): y\n",
      "Wrote Old Town Road (Diplo Remix) to ./lyrics/OldTownRoad_LilNasXFeaturingBillyRayCyrus.txt.\n",
      "Searching for \"Ran$om\" by Lil Tecca...\n",
      "Done.\n",
      "./lyrics/Ranom_LilTecca.txt already exists. Overwrite?\n",
      "(y/n): y\n",
      "Wrote Ransom to ./lyrics/Ranom_LilTecca.txt.\n"
     ]
    }
   ],
   "source": [
    "for i in range(5):\n",
    "    choice_song = df['Title'][i]\n",
    "    choice_artist = df['Artist'][i]\n",
    "    song = api.search_song(choice_song, choice_artist)\n",
    "    s = choice_song + '_' + choice_artist\n",
    "    filename = re.sub(r'\\W+', '', s)\n",
    "    if song is not None:\n",
    "        song.save_lyrics(filename='./lyrics/'+filename+'.txt', extension='txt')"
   ]
  },
  {
   "cell_type": "code",
   "execution_count": null,
   "metadata": {},
   "outputs": [],
   "source": []
  }
 ],
 "metadata": {
  "kernelspec": {
   "display_name": "Python [conda env:metis] *",
   "language": "python",
   "name": "conda-env-metis-py"
  },
  "language_info": {
   "codemirror_mode": {
    "name": "ipython",
    "version": 3
   },
   "file_extension": ".py",
   "mimetype": "text/x-python",
   "name": "python",
   "nbconvert_exporter": "python",
   "pygments_lexer": "ipython3",
   "version": "3.7.3"
  }
 },
 "nbformat": 4,
 "nbformat_minor": 2
}
